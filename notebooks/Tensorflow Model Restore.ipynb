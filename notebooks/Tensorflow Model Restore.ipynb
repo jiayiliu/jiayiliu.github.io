{
 "cells": [
  {
   "cell_type": "markdown",
   "metadata": {},
   "source": [
    "# Tensorflow Model Restore\n",
    "\n",
    "The user-friendliness of Tensorflow is [notoriously bad](http://nicodjimenez.github.io/2017/10/08/tensorflow.html) in some sense. Here is a personal note about some experience with the model restore process. There also some great intro blogs [try to collect more to list](https://jacobbuckman.com/post/tensorflow-the-confusing-parts-1/).\n",
    "\n",
    "In below, I first create and save a model using Tensorflow.  Then I show different approaches to restore the model.\n",
    "Be aware, TF graph has been reset to clear the existing variables."
   ]
  },
  {
   "cell_type": "markdown",
   "metadata": {},
   "source": [
    "## Save model using tf.train.Saver"
   ]
  },
  {
   "cell_type": "code",
   "execution_count": 1,
   "metadata": {},
   "outputs": [],
   "source": [
    "import tensorflow as tf\n",
    "import numpy as np\n",
    "import os"
   ]
  },
  {
   "cell_type": "code",
   "execution_count": 2,
   "metadata": {},
   "outputs": [],
   "source": [
    "test_x = np.random.random([3,10])"
   ]
  },
  {
   "cell_type": "code",
   "execution_count": 3,
   "metadata": {},
   "outputs": [],
   "source": [
    "tf.reset_default_graph()\n",
    "x = tf.placeholder(tf.float32, shape=[None, 10], name='x')\n",
    "y = tf.layers.dense(x, 5, name='y')\n",
    "saver = tf.train.Saver()\n",
    "with tf.Session() as sess:\n",
    "    sess.run(tf.global_variables_initializer())\n",
    "    test_y = sess.run(y, feed_dict={x:test_x})\n",
    "    saver.save(sess, \"./tmp/model\")"
   ]
  },
  {
   "cell_type": "markdown",
   "metadata": {},
   "source": [
    "## Restore model using tf.train.Saver"
   ]
  },
  {
   "cell_type": "code",
   "execution_count": 4,
   "metadata": {},
   "outputs": [
    {
     "name": "stdout",
     "output_type": "stream",
     "text": [
      "INFO:tensorflow:Restoring parameters from ./tmp/model\n"
     ]
    }
   ],
   "source": [
    "tf.reset_default_graph()\n",
    "x = tf.placeholder(tf.float32, shape=[None, 10], name='x')\n",
    "y = tf.layers.dense(x, 5, name='y')\n",
    "saver = tf.train.Saver()\n",
    "with tf.Session() as sess:\n",
    "    saver.restore(sess, \"./tmp/model\")\n",
    "    test_y2 = sess.run(y, feed_dict={x:test_x})\n",
    "assert (test_y==test_y2).all()"
   ]
  },
  {
   "cell_type": "markdown",
   "metadata": {},
   "source": [
    "## Restore model using meta graph"
   ]
  },
  {
   "cell_type": "code",
   "execution_count": 5,
   "metadata": {},
   "outputs": [
    {
     "data": {
      "text/plain": [
       "['checkpoint', 'model.data-00000-of-00001', 'model.index', 'model.meta']"
      ]
     },
     "execution_count": 5,
     "metadata": {},
     "output_type": "execute_result"
    }
   ],
   "source": [
    "tf.reset_default_graph()\n",
    "os.listdir(\"tmp\")"
   ]
  },
  {
   "cell_type": "code",
   "execution_count": 9,
   "metadata": {},
   "outputs": [
    {
     "name": "stdout",
     "output_type": "stream",
     "text": [
      "INFO:tensorflow:Restoring parameters from tmp/model\n"
     ]
    }
   ],
   "source": [
    "saver = tf.train.import_meta_graph(\"tmp/model.meta\")\n",
    "g = tf.get_default_graph()\n",
    "g.get_operations()\n",
    "\n",
    "x = g.get_tensor_by_name(\"x:0\")\n",
    "y = g.get_tensor_by_name(\"y/BiasAdd:0\")\n",
    "with tf.Session() as sess:\n",
    "    saver.restore(sess, \"tmp/model\")\n",
    "    test_y3 = sess.run(y, feed_dict={x:test_x})\n",
    "assert (test_y==test_y3).all()"
   ]
  },
  {
   "cell_type": "code",
   "execution_count": 10,
   "metadata": {},
   "outputs": [],
   "source": [
    "# clean up\n",
    "files = os.listdir(\"tmp\")\n",
    "for f in files:\n",
    "    os.remove(os.path.join(\"tmp\",f))\n",
    "os.rmdir(\"tmp\")"
   ]
  },
  {
   "cell_type": "markdown",
   "metadata": {},
   "source": [
    "## Summary\n",
    "\n",
    "Approach | Advantage | Disadvantage \n",
    "-------- | --------- | ------------\n",
    "Saver    | One line restore  | Model need to be declared\n",
    "Meta Graph | No model def required | need to know tensor name \n",
    "\n",
    "\n",
    "\n",
    "In future, I will cover on the model saving process in Tensorflow."
   ]
  },
  {
   "cell_type": "code",
   "execution_count": null,
   "metadata": {},
   "outputs": [],
   "source": []
  }
 ],
 "metadata": {
  "kernelspec": {
   "display_name": "DL",
   "language": "python",
   "name": "dl"
  },
  "language_info": {
   "codemirror_mode": {
    "name": "ipython",
    "version": 3
   },
   "file_extension": ".py",
   "mimetype": "text/x-python",
   "name": "python",
   "nbconvert_exporter": "python",
   "pygments_lexer": "ipython3",
   "version": "3.6.6"
  },
  "nikola": {
   "category": "Tensorflow",
   "date": "2018-11-04 19:44:01 UTC-08:00",
   "description": "Model restore for Tensorflow",
   "link": "",
   "slug": "tensoflow-restore",
   "tags": "",
   "title": "TensorFlow Model Restore",
   "type": "text"
  }
 },
 "nbformat": 4,
 "nbformat_minor": 2
}
