{
  "nbformat": 4,
  "nbformat_minor": 0,
  "metadata": {
    "nikola": {
      "category": "notes",
      "date": "2020-02-13 21:00:00 UTC-08:00",
      "description": "Conference review for model compression presented in AAAI 2020",
      "link": "",
      "slug": "aaai2020",
      "tags": "notes,compression,AAAI",
      "title": "(Incomplete) Review of AAAI 2020 for Model Compression",
      "type": "text"
    },
    "colab": {
      "name": "Review_AAAI_2020.ipynb",
      "provenance": [],
      "collapsed_sections": []
    },
    "kernelspec": {
      "name": "python3",
      "display_name": "Python 3"
    }
  },
  "cells": [
    {
      "cell_type": "markdown",
      "metadata": {
        "id": "uPARhRGkPPjp",
        "colab_type": "text"
      },
      "source": [
        "# (Incomplete) Review of AAAI Model Compression\n",
        "\n",
        "\n",
        "## Pruning\n",
        "\n",
	"<!-- TEASER_END -->\n",
        "+ [Liu 2020 AutoCompress](https://arxiv.org/abs/1907.03141): Targeted to solving the challenges in tuning the compression ratios for a CNN model,\n",
        "authors provided an integrated solution including structural (filter/channel/filter shape) pruning, L0 pruning, ADMM optimization, and evolutionary search for hyperparameter tuning.  Results are shown on VGG/ResNet with CIFAR10/ImageNet(top-5).\n",
        "\n",
        "+ [Ren 2020 DARB](http://arxiv.org/abs/1911.08020): Targeted to prune RNN models or fully connected layers in a structured approach, by leveraging on the insights from \"the diverse redundancy of different rows, the sensitivity of different rows to pruning, and the position characteristics of retained weights\".\n",
        "\n",
        "+ [Wang 2020 Pruning](http://arxiv.org/abs/1909.12579): Tested the idea to prune from scratch using network slimming technique (scalar gate). They showed promising results on VGG/ResNet(CIFAR10) and ResNet/MobileNet(ImageNet).\n",
        "\n",
        "\n",
        "## Quantization\n",
        "\n",
        "+ [Shen 2020 Q-BERT](http://arxiv.org/abs/1909.05840): Quantized BERT model with mixed-precision driven by the spectrum of Hessian matrices for each layers.  The Hessian is calculated by matrix-free power of iteration method, avoiding the challenge of computing 2nd-order derivate.  Furthermore, it adopted structured quantization for finer control within layers.\n",
        "\n",
        "+ [Li 2020 RTN](http://arxiv.org/abs/1912.02057): Presented a reparameterization schema for ternary quantization, which improves the squashing range and training efficiency.  Furthermore, they demonstrated the energy and size reduction for inference on FPGA.\n",
        "\n",
        "+ [Gennari 2020 DSConv](http://arxiv.org/abs/1901.01928): Proposed a new quantization structure for Convolution layers consisted of Variable Quantized Kernel (VQK) and Kernel Distribution Shift (KDS) to replace a block of convolution layer.  Quantizing both weights and activations, the method only lost 1\\% accuracy with 4-bit quantization, and restored accuracy by using distillation without labeled data.\n",
        "\n",
        "\n",
        "## Low-Rank\n",
        "\n",
        "+ [Liu 2020 Layerwise](https://cs.nju.edu.cn/rl/people/liwb/AAAI20b.pdf): Reduced the extra space of sparse weight matrix by using layerwise sparse coding (LSC) and Signed Relative Index (SRI). The proposed method also provides faster inference speed comparing to vanilla sparse encoding or bitmasking.  The method is only verified on highly sparsed ADMM-LeNet.\n",
        "\n",
        "+ [Zhang 2020 High](http://arxiv.org/abs/2001.02504) Evaluated the performance of depth-wise and point-wise convolutions on ARM devices and proposed a new algorithm to overcome the problems of \"lots of cache misses under multi-core and poor data reuse at register level\" and lead to 2~5x speed up comparing to TVM.\n",
        "\n",
        "## Distillation\n",
        "\n",
        "+ [Bai 2020 Few](http://arxiv.org/abs/1911.09450): Proposed a novel soft cross distillation to improve model compression in the few-shot setting.\n",
        "\n",
        "## NAS\n",
        "\n",
        "+ [Zhang 2020 AutoShrink](http://arxiv.org/abs/1911.09251): Efficiently explore and exploit during search for node and edge as network architecture iteratively.\n",
        "\n",
        "+ [Hang 2020 Towards](http://arxiv.org/abs/1911.13019): Combined Oracle Knowledge Distillation with Neural Architecture Search to find the best student model under resource constraint.  Also, the teacher model is an ensemble of student nets.\n",
        "\n",
        "+ [Chen 2020 Binarized](http://arxiv.org/abs/1911.10862): Extended the PC-DARTS to search binarized CNN. They improved the search speed and optimization by channel sampling and operation space reduction.\n",
        "\n",
        "## Other\n",
        "\n",
        "+ [Xu 2020 Light](http:/ /arxiv.org/abs/1907.06870): Proposed a new activation function that improves compact model to learn better from teacher models.\n",
        "\n",
        "+ [Fuhl 2020 Training](http://arxiv.org/abs/1905.10073): Replaced convolution layer with decision tree model for better inference speed. They also provided a formulation to train decision trees along with back-propagation.\n",
        "\n",
        "+ [Lee 2020 URNet](http://arxiv.org/abs/1901.04687): Designed a new conditional block with a controllable scaling factor to tune model complexity dynamically.\n",
        "\n",
        "+ [Kim 2020 Plug-in](http://arxiv.org/abs/1904.10921): Proposed a trainable gating function that can be integrated into existing neural networks for pruning.\n",
        "\n",
        "+ [Yang 2020 Gated](http://arxiv.org/abs/1908.09699): Proposed a new light-weight architecture to improve the efficiency of DenseNet by using Hybrid Connectivity and Gated mechanism.\n",
        "\n",
        "+ [Huang 2020 DWM](https://arxiv.org/abs/2002.00552): Proposed a new decomposite to generalize Winograd convolution beyond 3x3 and stride of 1 with 2x better performance and small precision loss.\n",
        "\n",
        "\n",
        "## Application\n",
        "\n",
        "+ [Liu 2020 TEINet](http://arxiv.org/abs/1911.09435): Proposed a new network design for video recognition.\n",
        "+ [Liao 2020 Embedding](http://arxiv.org/abs/2001.05314): Compressed word embedding using iterative quantization.\n"
      ]
    }
  ]
}