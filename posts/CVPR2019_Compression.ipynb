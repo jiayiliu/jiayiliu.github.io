{
 "cells": [
  {
   "cell_type": "markdown",
   "metadata": {},
   "source": [
    "# CVPR 2019 Compression Review\n",
    "\n",
    "## Workshop\n",
    "\n",
    "+ [Efficient Deep Learning for Computer Vision](https://sites.google.com/view/ecv2019/home)\n",
    "+ [EMC^2 - Energy Efficient Machine Learning and Cognitive Computing](http://www.emc2-ai.org/cvpr-19)\n",
    "+ [Embedded Computer Vision Workshop](https://embeddedvisionworkshop.wordpress.com/)\n",
    "+ [Compact and Efficient Feature Representation and Learning in Computer Vision](http://www.ee.oulu.fi/~lili/CEFRLatCVPR2019.html)\n",
    "\n",
    "## Pruning\n",
    "<!-- TEASER_END -->\n",
    "\n",
    "+ [Exploiting Kernel Sparsity and Entropy for Interpretable CNN Compression](http://openaccess.thecvf.com/content_CVPR_2019/html/Li_Exploiting_Kernel_Sparsity_and_Entropy_for_Interpretable_CNN_Compression_CVPR_2019_paper.html): proposes a new pruning criteria - Kernel Sparsity and Entropy (KSE), which combines the similarity between kernels and information carries from the feature maps.  Instead of pruning, they use K-mean clustering to fuse kernels to maintain accuracy.\n",
    "+ [Compressing Convolutional Neural Networks via Factorized Convolutional Filters](http://openaccess.thecvf.com/content_CVPR_2019/papers/Li_Compressing_Convolutional_Neural_Networks_via_Factorized_Convolutional_Filters_CVPR_2019_paper): adds additional binary variables to each filter to prune filters in a two-step training procedure.  Normal backpropagation for weights update, and ADMM-based update for such binary variables.\n",
    "+ [Filter Pruning via Geometric Median for Deep Convolutional Neural Networks Acceleration](http://openaccess.thecvf.com/content_CVPR_2019/papers/He_Filter_Pruning_via_Geometric_Median_for_Deep_Convolutional_Neural_Networks_CVPR_2019_paper): points out that pruning by weight (weight norm) is not necessarily effective, and a better solution is to prune by weight similarity.  Based on that, the proposed method prune filters close to the geometric median of filters.\n",
    "+ [ECC: Platform-Independent Energy-Constrained Deep Neural Network Compression via a Bilinear Regression Model](http://openaccess.thecvf.com/content_CVPR_2019/html/Yang_ECC_Platform-Independent_Energy-Constrained_Deep_Neural_Network_Compression_via_a_Bilinear_CVPR_2019_paper.html): provides an energy-aware model pruning that relies on modeling energy by regression (on sparsity) and updates weights and sparsity via back-propagation.\n",
    "+ [Towards Optimal Structured CNN Pruning via Generative Adversarial Learning](http://openaccess.thecvf.com/content_CVPR_2019/html/Lin_Towards_Optimal_Structured_CNN_Pruning_via_Generative_Adversarial_Learning_CVPR_2019_paper.html): combines three major methodologies to prune CNN efficiently.  First, cast the pruning problem into three levels - block (skip connection), branch (NAS-like), channel.  Second, use distillation to transfer the teacher's knowledge. Third, use adversarial learning to further improve accuracy.\n",
    "+ [Variational Convolutional Neural Network Pruning](http://openaccess.thecvf.com/content_CVPR_2019/html/Zhao_Variational_Convolutional_Neural_Network_Pruning_CVPR_2019_paper.html): uses the scaling term in the batch normalization as the saliency indicator and models it via Bayesian probability for pruning.\n",
    "\n",
    "## Quantization\n",
    "\n",
    "+ [Simultaneously Optimizing Weight and Quantizer of Ternary Neural Network using Truncated Gaussian Approximation](http://openaccess.thecvf.com/content_CVPR_2019/papers/He_Simultaneously_Optimizing_Weight_and_Quantizer_of_Ternary_Neural_Network_Using_CVPR_2019_paper): uses Gaussian approximation to quantize model weights into the ternary format. With a gradient correction on the STE method, their approach further improves the model training with quantized weights.\n",
    "+ [Regularizing Activation Distribution for Training Binarized Deep Networks](http://openaccess.thecvf.com/content_CVPR_2019/html/Ding_Regularizing_Activation_Distribution_for_Training_Binarized_Deep_Networks_CVPR_2019_paper.html): adds three regularizing terms (degeneration, saturation, gradient mismatch) on the activation loss to correct the gradient update for the binary neural network.\n",
    "+ [HAQ: Hardware-Aware Automated Quantization With Mixed Precision](http://openaccess.thecvf.com/content_CVPR_2019/html/Wang_HAQ_Hardware-Aware_Automated_Quantization_With_Mixed_Precision_CVPR_2019_paper.html): treats the quantization bits as neural architecture hyperparameters, it applies NAS to search the best quantization strategy with RL.\n",
    "+ [Learning to Quantize Deep Networks by Optimizing Quantization Intervals with Task Loss](http://openaccess.thecvf.com/content_CVPR_2019/papers/Jung_Learning_to_Quantize_Deep_Networks_by_Optimizing_Quantization_Intervals_With_CVPR_2019_paper): parameterizes the quantization interval and learns the quantization via training.\n",
    "+ [Importance Estimation for Neural Network Pruning](http://openaccess.thecvf.com/content_CVPR_2019/html/Molchanov_Importance_Estimation_for_Neural_Network_Pruning_CVPR_2019_paper.html): proposes a new importance measure based on the first-order Taylor expansion and it works for filters by grouping weights together.\n",
    "+ [Quantization Networks](http://openaccess.thecvf.com/content_CVPR_2019/html/Yang_Quantization_Networks_CVPR_2019_paper.html): multiple sigmoid functions to approximate the quantization mapping and the thresholds are learned with the training procedure.\n",
    "+ [Centripetal SGD for Pruning Very Deep Convolutional Networks with Complicated Structure](http://openaccess.thecvf.com/content_CVPR_2019/papers/Ding_Centripetal_SGD_for_Pruning_Very_Deep_Convolutional_Networks_With_Complicated_CVPR_2019_paper): clusters filters into groups and adds an intra-cluster similarity as a penalty for model training (centripetal).\n",
    "\n",
    "## Low-Rank Decomposition\n",
    "\n",
    "+ [Efficient Neural Network Compression](http://openaccess.thecvf.com/content_CVPR_2019/html/Kim_Efficient_Neural_Network_Compression_CVPR_2019_paper.html): automate the search for the best ranks for matrix decomposition using SVD for each layer.\n",
    "+ [Building Efficient Deep Neural Networks with Unitary Group Convolutions](http://openaccess.thecvf.com/content_CVPR_2019/papers/Zhao_Building_Efficient_Deep_Neural_Networks_With_Unitary_Group_Convolutions_CVPR_2019_paper): reveals the relation between shufflenet (group convolution) and circulant convolution.  Using Hadamard transform, they propose an efficient UGconv block to replace the group conv block.\n",
    "+ [Cascaded Projection: End-to-End Network Compression and Acceleration](http://openaccess.thecvf.com/content_CVPR_2019/html/Minnehan_Cascaded_Projection_End-To-End_Network_Compression_and_Acceleration_CVPR_2019_paper.html): proposes to reduce the reconstruction error on the feature maps rather than its linear outputs before the activations. Direct training by general SGD with both classification loss and reconstruction loss is not stable, therefore, they improve it by training odd and even layers iteratively.\n",
    "\n",
    "## Architecture\n",
    "\n",
    "+ [SeerNet: Predicting Convolutional Neural Network Feature-Map Sparsity Through Low-Bit Quantization](http://openaccess.thecvf.com/content_CVPR_2019/html/Cao_SeerNet_Predicting_Convolutional_Neural_Network_Feature-Map_Sparsity_Through_Low-Bit_Quantization_CVPR_2019_paper.html): uses a quantized version to quickly predict the sparsity of the activation map and therefore reduces the computation required for the original dense layer.  Similar to another work [More is less: A More Complicated Network with Less Inference Complexity](http://openaccess.thecvf.com/content_cvpr_2017/papers/Dong_More_Is_Less_CVPR_2017_paper.pdf).  It requires a reimplementation of the network to achieve the speed-up.\n",
    "+ [MnasNet: Platform-Aware Neural Architecture Search for Mobile](http://openaccess.thecvf.com/content_CVPR_2019/html/Tan_MnasNet_Platform-Aware_Neural_Architecture_Search_for_Mobile_CVPR_2019_paper): applies NAS for mobile applications, i.e. faster inference with light weight models.  It contains a few novelties in the searching procedure: 1) search differently for blocks, 2) early stopping for network candidates, 3) configurable reward combining accuracy and latency for RL agent.  The output model architecture is efficient for mobile phones (single-core CPU).\n",
    "+ [ESPNetv2: A Light-weight, Power Efficient, and General Purpose Convolutional Neural Network](http://openaccess.thecvf.com/content_CVPR_2019/papers/Mehta_ESPNetv2_A_Light-Weight_Power_Efficient_and_General_Purpose_Convolutional_Neural_CVPR_2019_paper): proposes a new efficient CNN architecture using group convolution and dilated convolution.\n",
    "+ [FBNet: Hardware-Aware Efficient ConvNet Design via Differentiable Neural Architecture Search](http://openaccess.thecvf.com/content_CVPR_2019/html/Wu_FBNet_Hardware-Aware_Efficient_ConvNet_Design_via_Differentiable_Neural_Architecture_Search_CVPR_2019_paper.html): uses measured latency for loss to search for the optimal network architecture.  The NAS is treated as to search subnet from a supernet with stochastic sampling with probabilities.\n",
    "+ [ChamNet: Towards Efficient Network Design Through Platform-Aware Model Adaptation](http://openaccess.thecvf.com/content_CVPR_2019/html/Dai_ChamNet_Towards_Efficient_Network_Design_Through_Platform-Aware_Model_Adaptation_CVPR_2019_paper.html): applies NAS with energy consumption and latency.  To speed up the search, they use Gaussian Process to model energy consumption and accuracy.  The latency is modeled as a sum of operations in a measured look-up table.  The search space is limited to a few parameters associated with the backbone architecture.\n",
    "\n",
    "## Application\n",
    "\n",
    "+ [DFANet: Deep Feature Aggregation for Real-Time Semantic Segmentation](http://openaccess.thecvf.com/content_CVPR_2019/html/Li_DFANet_Deep_Feature_Aggregation_for_Real-Time_Semantic_Segmentation_CVPR_2019_paper.html): provides efficient architecture targets to deliver real-time semantic segmentation.  It relies on aggregate features to avoid computation overhead.\n",
    "+ [NETTAILOR: Tuning the architecture, not just the weights](http://openaccess.thecvf.com/content_CVPR_2019/papers/Morgado_NetTailor_Tuning_the_Architecture_Not_Just_the_Weights_CVPR_2019_paper): presents an effective method to distill and build student networks based on using low-fidelity layers to replace current layers.\n",
    "+ [Efficient Video Classification Using Fewer Frames](http://openaccess.thecvf.com/content_CVPR_2019/papers/Bhardwaj_Efficient_Video_Classification_Using_Fewer_Frames_CVPR_2019_paper): designs a distillation strategy to teach a student network uses fewer frames to reproduce the prediction from a teacher network.\n",
    "+ [AdaFrame: Adaptive Frame Selection for Fast Video Recognition](http://openaccess.thecvf.com/content_CVPR_2019/html/Wu_AdaFrame_Adaptive_Frame_Selection_for_Fast_Video_Recognition_CVPR_2019_paper.html)\n",
    "+ [Fully Quantized Network for Object Detection](http://openaccess.thecvf.com/content_CVPR_2019/papers/Li_Fully_Quantized_Network_for_Object_Detection_CVPR_2019_paper): provides a detailed guide to fully quantize mobilenet for object detection.\n",
    "+ [Fast Human Pose Estimation](http://openaccess.thecvf.com/content_CVPR_2019/papers/Zhang_Fast_Human_Pose_Estimation_CVPR_2019_paper): applies distillation to train light-weight student network (hourglass) for the human pose estimation task.\n",
    "+ [Deep Virtual Networks for Memory Efficient Inference of Multiple Tasks](http://openaccess.thecvf.com/content_CVPR_2019/html/Kim_Deep_Virtual_Networks_for_Memory_Efficient_Inference_of_Multiple_Tasks_CVPR_2019_paper.html): presents a weight-sharing schema to design multi-task DNN with shared layers. The schema assumes that neighbor tasks are similar and therefore layers from other tasks can be shared in layer sequence.\n",
    "+ [Knowledge Adaptation for Efficient Semantic Segmentation](http://openaccess.thecvf.com/content_CVPR_2019/papers/He_Knowledge_Adaptation_for_Efficient_Semantic_Segmentation_CVPR_2019_paper): presents an effective solution to distill knowledge to train efficient student network for the semantic segmentation task.\n"
   ]
  }
 ],
 "metadata": {
  "kernelspec": {
   "display_name": "Python 3",
   "language": "python",
   "name": "python3"
  },
  "language_info": {
   "codemirror_mode": {
    "name": "ipython",
    "version": 3
   },
   "file_extension": ".py",
   "mimetype": "text/x-python",
   "name": "python",
   "nbconvert_exporter": "python",
   "pygments_lexer": "ipython3",
   "version": "3.7.3"
  },
  "nikola": {
   "category": "notes",
   "date": "2020-01-19 11:00:00 UTC-08:00",
   "description": "Conference review for model compression presented in CVPR 2019",
   "link": "",
   "slug": "CVPR2019",
   "tags": "notes,compression,CVPR",
   "title": "Review of CVPR 2019 for Model Compression",
   "type": "text"
  }
 },
 "nbformat": 4,
 "nbformat_minor": 2
}
