{
 "cells": [
  {
   "cell_type": "markdown",
   "metadata": {},
   "source": [
    "# How to write reusable (but not usable) code\n",
    "\n",
    "Python is an easy and powerful language for machine learning practitioner like me.  A good style makes the code easy to read and reuse.  A lengthy one comes from [Google](https://github.com/google/styleguide/blob/gh-pages/pyguide.md).  Here, I want to share with you some tips to create troubles when others want to use your code.  \n",
    "\n",
    "**Actually, I want you to avoid them.**\n",
    "\n",
    "To keep things tight, a short list followed by detailed examples in below.\n",
    "\n",
    "+ Write out-dated (and misleading) comment\n",
    "+ Mix controllable parameter and hard-coded parameters\n",
    "+ Save parameters in configuration file and never share it\n",
    "+ Access variables, functions, classes via string in the name of dynamic\n",
    "+ Give the same name to similar (but different) functions\n",
    "+ Mis-spell function name\n",
    "<!-- TEASER_END -->\n"
   ]
  },
  {
   "cell_type": "markdown",
   "metadata": {},
   "source": [
    "##  Write out-dated (and misleading) comment\n",
    "\n",
    "Code keeps evolving, just checkout how many versions of Tensorflow or PyTorch per year. People are rushing to develop new features and sometime need to change their code. Please make sure the supporting documents are up-to-date."
   ]
  },
  {
   "cell_type": "code",
   "execution_count": null,
   "metadata": {},
   "outputs": [],
   "source": [
    "def get_number():\n",
    "  \"\"\" return a number\"\"\"\n",
    "  return \"I changed my mind\""
   ]
  },
  {
   "cell_type": "markdown",
   "metadata": {},
   "source": [
    "## Mix controllable parameter and hard-coded parameters\n",
    "\n",
    "It is always nice to have a versatile function rather than many hand-coded parameters. However, consistency is critical to make everything right."
   ]
  },
  {
   "cell_type": "code",
   "execution_count": null,
   "metadata": {},
   "outputs": [],
   "source": [
    "def create_two_same_size_lists(n=10):\n",
    "  return list(range(n)), list(range(10))"
   ]
  },
  {
   "cell_type": "markdown",
   "metadata": {},
   "source": [
    "## Save parameters in configuration file and never share it\n",
    "\n",
    "Using parameters from a configuration file is definitely preferred, which will save you a lot of time to track your ML experiments.  However, do please remember to share it with your collaborators, at least one working version."
   ]
  },
  {
   "cell_type": "code",
   "execution_count": 3,
   "metadata": {},
   "outputs": [
    {
     "ename": "FileNotFoundError",
     "evalue": "[Errno 2] No such file or directory: 'config.json'",
     "output_type": "error",
     "traceback": [
      "\u001b[0;31m---------------------------------------------------------------------------\u001b[0m",
      "\u001b[0;31mFileNotFoundError\u001b[0m                         Traceback (most recent call last)",
      "\u001b[0;32m<ipython-input-3-c342cb5df34c>\u001b[0m in \u001b[0;36m<module>\u001b[0;34m\u001b[0m\n\u001b[1;32m      1\u001b[0m \u001b[0;32mimport\u001b[0m \u001b[0mjson\u001b[0m\u001b[0;34m\u001b[0m\u001b[0;34m\u001b[0m\u001b[0m\n\u001b[0;32m----> 2\u001b[0;31m \u001b[0mconfig\u001b[0m \u001b[0;34m=\u001b[0m \u001b[0mjson\u001b[0m\u001b[0;34m.\u001b[0m\u001b[0mload\u001b[0m\u001b[0;34m(\u001b[0m\u001b[0mopen\u001b[0m\u001b[0;34m(\u001b[0m\u001b[0;34m\"config.json\"\u001b[0m\u001b[0;34m)\u001b[0m\u001b[0;34m)\u001b[0m\u001b[0;34m\u001b[0m\u001b[0;34m\u001b[0m\u001b[0m\n\u001b[0m",
      "\u001b[0;31mFileNotFoundError\u001b[0m: [Errno 2] No such file or directory: 'config.json'"
     ]
    }
   ],
   "source": [
    "import json\n",
    "config = json.load(open(\"config.json\"))"
   ]
  },
  {
   "cell_type": "markdown",
   "metadata": {},
   "source": [
    "## Access variables, functions, classes via string in the name of dynamic\n",
    "\n",
    "Using string to access classes or functions can be very powerful and dynamic. However, it will leave the code hard to maintain, e.g. hard to trace definitions, prone to error.  If really needed, check whether you can use a `dict` to track all definitions."
   ]
  },
  {
   "cell_type": "code",
   "execution_count": 4,
   "metadata": {},
   "outputs": [
    {
     "data": {
      "text/plain": [
       "1"
      ]
     },
     "execution_count": 4,
     "metadata": {},
     "output_type": "execute_result"
    }
   ],
   "source": [
    "class A:\n",
    "  def __init__(self):\n",
    "    self.a=1\n",
    "\n",
    "getattr(A(), 'a')"
   ]
  },
  {
   "cell_type": "markdown",
   "metadata": {},
   "source": [
    "## Give the same name to similar (but different) functions\n",
    "\n",
    "Once a project grows larger and larger, it might be easier to write a handy function instead of searching and reusing existing functions.  But it is very harmful if the same function name servers in different parts of the code for different purposes."
   ]
  },
  {
   "cell_type": "code",
   "execution_count": 5,
   "metadata": {},
   "outputs": [],
   "source": [
    "def get_sum(a):\n",
    "  return sum(i for i in a)\n",
    "\n",
    "def get_a_sum(a):\n",
    "  return sum(i**2 for i in a)"
   ]
  },
  {
   "cell_type": "markdown",
   "metadata": {},
   "source": [
    "## Mis-spell function name\n",
    "\n",
    "A common problem, esp. working on the server side.  Please use some spell checker."
   ]
  },
  {
   "cell_type": "code",
   "execution_count": 6,
   "metadata": {},
   "outputs": [],
   "source": [
    "def data_louder():\n",
    "  return 1,2,3,4"
   ]
  }
 ],
 "metadata": {
  "colab": {
   "collapsed_sections": [],
   "name": "code_style.ipynb",
   "provenance": []
  },
  "kernelspec": {
   "display_name": "Python 3",
   "language": "python",
   "name": "python3"
  },
  "language_info": {
   "codemirror_mode": {
    "name": "ipython",
    "version": 3
   },
   "file_extension": ".py",
   "mimetype": "text/x-python",
   "name": "python",
   "nbconvert_exporter": "python",
   "pygments_lexer": "ipython3",
   "version": "3.6.9"
  },
  "nikola": {
   "category": "python",
   "date": "2020-08-08 15:20:01 UTC-08:00",
   "description": "",
   "link": "",
   "slug": "PythonDev",
   "tags": "python",
   "title": "How to write reusable (but not usable) code",
   "type": "text"
  }

 },
 "nbformat": 4,
 "nbformat_minor": 4
}
