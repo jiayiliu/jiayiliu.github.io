{
 "cells": [
  {
   "cell_type": "markdown",
   "metadata": {
    "colab_type": "text",
    "id": "7zFCOvDDUl-c"
   },
   "source": [
    "# index page for colab pages\n",
    "\n",
    "## ML/DL\n",
    "\n",
    "+ [TF Checkpoint Exploration - part 1](https://colab.research.google.com/github/jiayiliu/jiayiliu.github.io/blob/src/posts/TF_checkpoint.ipynb)\n",
    "+ [TF Lite Conversion Comparison](https://colab.research.google.com/github/jiayiliu/jiayiliu.github.io/blob/src/posts/TF_Lite_Conversion_v1.ipynb)\n",
    "+ [ImageNet Challenge Benchmark](https://colab.research.google.com/github/jiayiliu/jiayiliu.github.io/blob/src/posts/imagenet_benchmark.ipynb)\n",
    "+ [Warnings for TensorFlow User](https://colab.research.google.com/github/jiayiliu/jiayiliu.github.io/blob/src/posts/Warnings_for_TensorFlow_User.ipynb)\n",
    "+ [Reflection on Tensorflow Documentation by a short user journey](https://colab.research.google.com/github/jiayiliu/jiayiliu.github.io/blob/src/posts/tf_lite_explore.ipynb)\n",
    "+ [Tensorflow Profiling](https://colab.research.google.com/github/jiayiliu/jiayiliu.github.io/blob/src/posts/tensoflow-profiling.ipynb)\n",
    "+ [Random Test for Keras](https://colab.research.google.com/github/jiayiliu/jiayiliu.github.io/blob/src/posts/random-tests-for-keras.ipynb)\n",
    "\n",
    "\n",
    "## Other random topic\n",
    "\n",
    "+ [Refinance Analysis](https://colab.research.google.com/github/jiayiliu/jiayiliu.github.io/blob/src/posts/Refinance%20Analysis.ipynb)"
   ]
  }
 ],
 "metadata": {
  "colab": {
   "collapsed_sections": [],
   "name": "index.ipynb",
   "provenance": []
  },
  "kernelspec": {
   "display_name": "Python 3",
   "language": "python",
   "name": "python3"
  },
  "language_info": {
   "codemirror_mode": {
    "name": "ipython",
    "version": 3
   },
   "file_extension": ".py",
   "mimetype": "text/x-python",
   "name": "python",
   "nbconvert_exporter": "python",
   "pygments_lexer": "ipython3",
   "version": "3.7.3"
  },
  "nikola": {
   "category": "",
   "date": "2019-12-17 11:54:00 UTC-08:00",
   "description": "Index page with colab links",
   "link": "",
   "slug": "index-colab",
   "tags": "colab",
   "title": "Colab Index",
   "type": "text"
  }
 },
 "nbformat": 4,
 "nbformat_minor": 1
}