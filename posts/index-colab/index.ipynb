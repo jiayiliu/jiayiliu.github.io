{
  "nbformat": 4,
  "nbformat_minor": 0,
  "metadata": {
    "colab": {
      "name": "index.ipynb",
      "provenance": [],
      "collapsed_sections": []
    },
    "kernelspec": {
      "name": "python3",
      "display_name": "Python 3"
    },
    "nikola": {
      "category": "",
      "date": "2019-10-29 6:28:00 UTC-08:00",
      "description": "Index page with colab links",
      "link": "",
      "slug": "index-colab",
      "tags": "colab",
      "title": "Colab Index",
      "type": "text"
     }
  },
  "cells": [
    {
      "cell_type": "markdown",
      "metadata": {
        "id": "7zFCOvDDUl-c",
        "colab_type": "text"
      },
      "source": [
        "# index page for colab pages\n",
        "\n",
        "## ML/DL\n",
        "\n",
        "+ [Tensorflow Lite Explore](https://colab.research.google.com/github/jiayiliu/jiayiliu.github.io/blob/src/posts/tf_lite_explore.ipynb)\n",
        "+ [ImageNet Challenge Benchmark](https://colab.research.google.com/github/jiayiliu/jiayiliu.github.io/blob/src/posts/imagenet_benchmark.ipynb)\n",
        "+ [Warnings for TensorFlow User](https://colab.research.google.com/github/jiayiliu/jiayiliu.github.io/blob/src/posts/Warnings_for_TensorFlow_User.ipynb)\n",
        "+ [Reflection on Tensorflow Documentation by a short user journey](https://colab.research.google.com/github/jiayiliu/jiayiliu.github.io/blob/src/notebooks/Tensorflow%20Model%20Restore.ipynb)\n",
        "+ [Tensorflow Profiling](https://colab.research.google.com/github/jiayiliu/jiayiliu.github.io/blob/src/posts/tensoflow-profiling.ipynb)\n",
        "+ [Random Test for Keras](https://colab.research.google.com/github/jiayiliu/jiayiliu.github.io/blob/src/posts/random-tests-for-keras.ipynb)\n",
        "\n",
        "\n",
        "## Other random topic\n",
        "\n",
        "+ [Refinance Analysis](https://colab.research.google.com/github/jiayiliu/jiayiliu.github.io/blob/src/posts/Refinance%20Analysis.ipynb)"
      ]
    }
  ]
}
