{
 "cells": [
  {
   "cell_type": "markdown",
   "id": "f93a178c-3d92-403e-be98-18584c2611af",
   "metadata": {},
   "source": [
    "# (Incomplete) Python Package A to Z\n",
    "\n",
    "In this article, I will highlight some useful packages for ML/AI practitioners from A to Z.  It is also a useful starting point for Python programmer learners to sharpen their practical skills after learning the language itself.\n",
    "<!-- TEASER_END -->\n",
    "\n",
    "\n",
    "| Name (package name in parenthesis)  | Note |\n",
    "| ----------- | ----------- |\n",
    "| [aup (auptimizer)](https://github.com/LGE-ARC-AdvancedAI/auptimizer)      | Handy tool for scalable hyperparameter tuning       |\n",
    "| [bs4 (beautifulsoup)]() | | \n",
    "| [cv2 (opencv-python)](https://docs.opencv.org/4.x/d6/d00/tutorial_py_root.html) | Image / computer vision related operations |\n",
    "| [django](https://www.djangoproject.com/) | Web development from scratch |\n",
    "| e | |\n",
    "| [faiss](https://github.com/facebookresearch/faiss) | Similarity search |\n",
    "| [ffmpeg (ffmpeg-python)](https://kkroening.github.io/ffmpeg-python/) | Video operations in Python|\n",
    "| [gradio](https://gradio.app/) | Host simple web interface for ML engineer | \n",
    "| h | |\n",
    "| i | |\n",
    "| [jupyter (jupyterlab)](https://jupyter.org/) | Interactive notebook for python user.|\n",
    "| k | |\n",
    "| [logging](https://docs.python.org/3/library/logging.html) | Add log to your program |\n",
    "| [matplotlib](https://matplotlib.org/) | Plot |\n",
    "| [numpy](https://numpy.org/) | Array operations |\n",
    "| [nltk](https://www.nltk.org/) | Natural language processing |\n",
    "| [netron](https://github.com/lutzroeder/netron) | DNN viewer |\n",
    "| [onnx](https://github.com/onnx/onnx) | Model deployment framework |\n",
    "| [pandas](https://pandas.pydata.org/) | Efficient table manipulation|\n",
    "| q | |\n",
    "| [ray](https://www.ray.io/) | Distributed task scheduling |\n",
    "| [scipy](https://scipy.org/)   | Scientific & efficient computing and advanced math     |\n",
    "| [sklearn (scikit-learn)](https://scikit-learn.org/stable/) | |\n",
    "| [spacy](https://spacy.io/) | Natural language processing |\n",
    "| [scrapy](https://scrapy.org/) | Web crawler |\n",
    "| [tensorflow](https://www.tensorflow.org/) | Deep learning framework |\n",
    "| [torch (pytorch)](https://pytorch.org/) | Deep learning framework |\n",
    "| [tqdm](https://github.com/tqdm/tqdm) | Progress bar |\n",
    "| u | |\n",
    "| v | |\n",
    "| w | |\n",
    "| x | |\n",
    "| [yaml (pyyaml)](https://pyyaml.org/wiki/PyYAMLDocumentation) | YAML support, good for save configurations|\n",
    "| z | |\n",
    "\n"
   ]
  }
 ],
 "metadata": {
  "kernelspec": {
   "display_name": "Python 3 (ipykernel)",
   "language": "python",
   "name": "python3"
  },
  "language_info": {
   "codemirror_mode": {
    "name": "ipython",
    "version": 3
   },
   "file_extension": ".py",
   "mimetype": "text/x-python",
   "name": "python",
   "nbconvert_exporter": "python",
   "pygments_lexer": "ipython3",
   "version": "3.9.10"
  },
  "nikola": {
   "category": "python",
   "date": "2022-02-09 15:36:01 UTC-08:00",
   "description": "Python package resources",
   "link": "",
   "slug": "python_packages",
   "tags": "python,resource",
   "title": "Python Package A to Z",
   "type": "text"
  }
 },
 "nbformat": 4,
 "nbformat_minor": 5
}
