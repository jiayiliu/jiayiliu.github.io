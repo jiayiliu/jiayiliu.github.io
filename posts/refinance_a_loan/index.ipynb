{
 "cells": [
  {
   "cell_type": "markdown",
   "metadata": {
    "colab_type": "text",
    "id": "wdwZy_hov2bU"
   },
   "source": [
    "**Disclaimer: not for financial recommandation, educational purpose only.**\n",
    "\n",
    "The interest rate is farely low right now, however, is it really a free lunch to refinance - even no point no fee?  I am going to show you how to analyze it by yourself.  This is just a toy model, for your investment, please do your own due diligence.",
    "<!-- TEASER_END -->\n"
   ]
  },
  {
   "cell_type": "markdown",
   "metadata": {
    "colab_type": "text",
    "id": "ZRot39CDvjCG"
   },
   "source": [
    "# Find the tool\n",
    "\n",
    "There is no need to reinvent the wheel, especially to code something up.\n",
    "Here I reuse a package from [jbmohler](https://github.com/jbmohler/mortgage) to compute the mortgage with a few modifications."
   ]
  },
  {
   "cell_type": "code",
   "execution_count": null,
   "metadata": {
    "colab": {},
    "colab_type": "code",
    "id": "uhxEQT-oyl3R"
   },
   "outputs": [],
   "source": [
    "!rm -f mortgage.py*\n",
    "!wget -q https://raw.githubusercontent.com/jiayiliu/mortgage/master/mortgage.py"
   ]
  },
  {
   "cell_type": "code",
   "execution_count": null,
   "metadata": {
    "colab": {},
    "colab_type": "code",
    "id": "bv7CIMT4yiU8"
   },
   "outputs": [],
   "source": [
    "import mortgage\n",
    "from itertools import islice\n",
    "import matplotlib.pylab as plt\n",
    "%matplotlib inline"
   ]
  },
  {
   "cell_type": "markdown",
   "metadata": {
    "colab_type": "text",
    "id": "kPf_15xmwQOA"
   },
   "source": [
    "First, let's see the baseline - both for the original loan and for the usage of the mortgage package."
   ]
  },
  {
   "cell_type": "code",
   "execution_count": null,
   "metadata": {
    "colab": {
     "base_uri": "https://localhost:8080/",
     "height": 168
    },
    "colab_type": "code",
    "id": "2VyYvBXx6_kd",
    "outputId": "3ed07f53-33b8-4790-a823-5edac8d5b6aa"
   },
   "outputs": [],
   "source": [
    "# Basic Setup\n",
    "# interest rate for 30-fixed - 4%\n",
    "ORIGIN_INTEREST=0.04\n",
    "# Initial loan amount - 1 Million Dollar\n",
    "INITIAL_AMOUNT = 1e6\n",
    "# Number of months\n",
    "PERIOD=360\n",
    "\n",
    "m = mortgage.Mortgage(interest=ORIGIN_INTEREST, amount=INITIAL_AMOUNT, months=PERIOD)\n",
    "mortgage.print_summary(m)"
   ]
  },
  {
   "cell_type": "markdown",
   "metadata": {
    "colab_type": "text",
    "id": "ScvGoJnZsA24"
   },
   "source": [
    "# Refinance\n",
    "\n",
    "Now let's build a function to calculate the refinance:\n",
    "Assuming we will switch the loan at `time_idx` month.  And the interest rate will be changed to `new_interest` and we will take `remaining` months to pay off the loan.\n",
    "\n",
    "The function returns the interest and principle payments for the first and second mortgages.\n",
    "\n",
    "We will address three questions: \n",
    "\n",
    "1. what's the trick in the refinance?\n",
    "2. what's the break-even point for refinance?\n",
    "3. what's the better strategy?"
   ]
  },
  {
   "cell_type": "code",
   "execution_count": null,
   "metadata": {
    "colab": {},
    "colab_type": "code",
    "id": "twFLeddH7Qm3"
   },
   "outputs": [],
   "source": [
    "def refinance(mort, time_idx, new_interest=ORIGIN_INTEREST, remaining=PERIOD):\n",
    "  \"\"\"\n",
    "  compute the refinance payout.\n",
    "  \n",
    "  :param mort: mortgage object\n",
    "  :param time_idx: which month to switch\n",
    "  :param new_interest: new interest rate\n",
    "  :param remaining: the term of the new loan\n",
    "  :return: payouts - interest paid for first loan, principle paid for first loan, interest paid for the second loan, priciple paid for the second loan.\n",
    "  \"\"\"\n",
    "  payments = [p for p in islice(mort.monthly_payment_schedule(), time_idx)]\n",
    "  prev_principle = sum(p[0] for p in payments )\n",
    "  prev_interest = sum(p[1] for p in payments)\n",
    "  left = mortgage.dollar(mort.amount() - prev_principle)\n",
    "  \n",
    "  new_mort = mortgage.Mortgage(interest=new_interest, amount=left, months=remaining)\n",
    "  payments = [p for p in new_mort.monthly_payment_schedule()]\n",
    "  new_principle = sum(p[0] for p in payments )\n",
    "  new_interest = sum(p[1] for p in payments)\n",
    "  return prev_interest, prev_principle, new_interest, new_principle\n",
    "\n",
    "# verify the function is right, minor difference due to rounding\n",
    "res = [refinance(m, i) for i in range(0,PERIOD+1,12)]\n",
    "for r in res:  # principles are equal\n",
    "  assert r[1]+r[3] == INITIAL_AMOUNT\n",
    "\n"
   ]
  },
  {
   "cell_type": "markdown",
   "metadata": {
    "colab_type": "text",
    "id": "LTCOsigUutbl"
   },
   "source": [
    "## When refinance for another 30yr fixed\n",
    "\n",
    "Assuming the rate stays the same, by refinancing for another 30 years, we are paying way more interests even the monthly payment is lower. "
   ]
  },
  {
   "cell_type": "code",
   "execution_count": null,
   "metadata": {
    "colab": {
     "base_uri": "https://localhost:8080/",
     "height": 300
    },
    "colab_type": "code",
    "id": "vT2D-qjOYqYV",
    "outputId": "d21b6089-5ba2-4a20-fc90-4986896d7ad1"
   },
   "outputs": [],
   "source": [
    "# interests diff\n",
    "total_interest = float(m.total_payout())-INITIAL_AMOUNT\n",
    "\n",
    "\n",
    "res = [refinance(m, i) for i in range(0,PERIOD+1,12)]\n",
    "interests = [r[0]+r[2] for r in res]\n",
    "t = [i/12. for i in range(0, PERIOD+1, 12)]\n",
    "\n",
    "plt.plot(t, interests, label='total interests')\n",
    "plt.plot(t, [total_interest]*len(t), label='no refinance interest')\n",
    "plt.xlabel('When to refinance (year)')\n",
    "plt.ylabel('Overall interest ($)')\n",
    "plt.legend()"
   ]
  },
  {
   "cell_type": "markdown",
   "metadata": {
    "colab_type": "text",
    "id": "uBfUWtr1vh9A"
   },
   "source": [
    "## A break even point\n",
    "\n",
    "And let's say the interest rate drops, by how much it makes even?\n",
    "\n",
    "Let's assume we refinance after year 7.  We need roughly 0.9% lower rate to make it even."
   ]
  },
  {
   "cell_type": "code",
   "execution_count": null,
   "metadata": {
    "colab": {
     "base_uri": "https://localhost:8080/",
     "height": 300
    },
    "colab_type": "code",
    "id": "qRvWXxsKaGsm",
    "outputId": "0db1e42b-3e92-4a7c-c07e-1256bbd55c5e"
   },
   "outputs": [],
   "source": [
    "interest_rates = [0.04, 0.035, 0.03]\n",
    "res = [refinance(m, 84, new_interest=r, remaining=PERIOD) for r in interest_rates]\n",
    "interests = [r[0]+r[2] for r in res]\n",
    "\n",
    "plt.plot(interest_rates, interests, label='total interests')\n",
    "plt.plot(interest_rates, [total_interest]*len(interest_rates), label='no refinance interest')\n",
    "plt.xlabel('new interest rate')\n",
    "plt.ylabel('Overall interest ($)')\n",
    "plt.legend()"
   ]
  },
  {
   "cell_type": "markdown",
   "metadata": {
    "colab_type": "text",
    "id": "qebUJd-iwiPR"
   },
   "source": [
    "## How to improve it\n",
    "\n",
    "### Reduce the time to mature from another 30yr to the origin 30yr\n",
    "\n",
    "Let's say if you contribute more to finish the loan in the original time frame.\n",
    "\n",
    "Then as expected, it is totally depends on the market interest rate.  And as intuition tells us, if the rate is lower, it is beneficial.  **BUT** remember, you should not use another 30yr fixed unless the rate is much lower."
   ]
  },
  {
   "cell_type": "code",
   "execution_count": null,
   "metadata": {
    "colab": {
     "base_uri": "https://localhost:8080/",
     "height": 300
    },
    "colab_type": "code",
    "id": "qGssPVjla2Vu",
    "outputId": "2ee88d3b-f40e-4421-d806-f2e2705dc504"
   },
   "outputs": [],
   "source": [
    "interest_rates = [0.05, 0.04, 0.03]\n",
    "res = [refinance(m, 84, new_interest=r, remaining=PERIOD-84) for r in interest_rates]\n",
    "months = [r for r in res]\n",
    "interests = [r[0]+r[2] for r in res]\n",
    "\n",
    "plt.plot(interest_rates, interests, label='refinance')\n",
    "plt.plot(interest_rates, [total_interest]*len(interest_rates), label='no refinance')\n",
    "plt.xlabel('new interest rate')\n",
    "plt.ylabel('Overall interests ($)')\n",
    "plt.legend()"
   ]
  },
  {
   "cell_type": "markdown",
   "metadata": {
    "colab_type": "text",
    "id": "tJVXVZ5LxQzP"
   },
   "source": [
    "### Keep the original payment\n",
    "\n",
    "To ease the mind of calculation, let's see how things go, if we keep the original monthly payment.  Clearly we can see that if the rate is lower, we will enjoy more benefits (shorter time and more saving on interests).\n"
   ]
  },
  {
   "cell_type": "code",
   "execution_count": null,
   "metadata": {
    "colab": {},
    "colab_type": "code",
    "id": "CZePBuZ3xncq"
   },
   "outputs": [],
   "source": [
    "def overpay(mort, time_idx, new_interest=ORIGIN_INTEREST, payment=None):\n",
    "  payments = [p for p in islice(mort.monthly_payment_schedule(), time_idx)]\n",
    "  prev_principle = sum(p[0] for p in payments)\n",
    "  prev_interest = sum(p[1] for p in payments)\n",
    "  if payment is None:\n",
    "    payment = mort.monthly_payment()\n",
    "  \n",
    "  left = mortgage.dollar(mort.amount() - prev_principle)\n",
    "  \n",
    "  new_mort = mortgage.Mortgage(interest=new_interest, amount=left, months=1) # month is a placeholder\n",
    "  months, interests =  new_mort.month_to_mature(payment)\n",
    "  return months, prev_interest+interests"
   ]
  },
  {
   "cell_type": "code",
   "execution_count": null,
   "metadata": {
    "colab": {
     "base_uri": "https://localhost:8080/",
     "height": 297
    },
    "colab_type": "code",
    "id": "RFpPXlXDzcYF",
    "outputId": "b303972f-f0fa-49fa-811d-1affe90eba02"
   },
   "outputs": [],
   "source": [
    "interest_rates = [0.05,0.045, 0.04, 0.035, 0.03]\n",
    "res = [overpay(m, 84, new_interest=r) for r in interest_rates]\n",
    "months = [r[0] for r in res]\n",
    "interests = [r[1] for r in res]\n",
    "\n",
    "plt.subplot(121)\n",
    "plt.plot(interest_rates, months, label='refinance')\n",
    "plt.plot(interest_rates, [360-84]*len(interest_rates), label='non refinance')\n",
    "plt.xlabel('new interest rate')\n",
    "plt.ylabel('month to mature')\n",
    "plt.legend()\n",
    "plt.subplot(122)\n",
    "plt.plot(interest_rates, interests, label='refinance')\n",
    "plt.plot(interest_rates, [total_interest]*len(interest_rates), label='no refinance')\n",
    "plt.legend()\n",
    "plt.xlabel('new interest rate')\n",
    "plt.ylabel('total interests ($)')\n",
    "plt.tight_layout()\n"
   ]
  },
  {
   "cell_type": "markdown",
   "metadata": {
    "colab_type": "text",
    "id": "Q6ltTUST_OUJ"
   },
   "source": [
    "# How about 7/1-ARM\n",
    "\n",
    "Let's take some basic assuptions - \n",
    "\n",
    "1. 7/1ARM is .5% lower than 30yr fixed.\n",
    "2. after 7 years the rate is changed to new rate and fixed again\n",
    "3. We will pay fixed amount accordingly\n",
    "\n",
    "The figure below shows that we can will be better if the interest rate raises less than 0.25%"
   ]
  },
  {
   "cell_type": "code",
   "execution_count": 21,
   "metadata": {
    "colab": {
     "base_uri": "https://localhost:8080/",
     "height": 300
    },
    "colab_type": "code",
    "id": "_yV4H3lxd74A",
    "outputId": "c377347d-8982-4f88-e29a-f6dfe307ecb0"
   },
   "outputs": [
    {
     "data": {
      "text/plain": [
       "<matplotlib.legend.Legend at 0x7f9255f84470>"
      ]
     },
     "execution_count": 21,
     "metadata": {},
     "output_type": "execute_result"
    },
    {
     "data": {
      "image/png": "[encoded data removed]",
      "text/plain": [
       "<Figure size 432x288 with 1 Axes>"
      ]
     },
     "metadata": {
      "needs_background": "light"
     },
     "output_type": "display_data"
    }
   ],
   "source": [
    "# 30yr fixed\n",
    "m2 = mortgage.Mortgage(interest=ORIGIN_INTEREST, amount=INITIAL_AMOUNT, months=PERIOD)\n",
    "res = refinance(m2, 0, remaining=PERIOD)\n",
    "total_interest = res[0]+res[2]\n",
    "\n",
    "# for 7/1ARM\n",
    "m = mortgage.Mortgage(interest=ORIGIN_INTEREST-0.005, amount=INITIAL_AMOUNT, months=PERIOD)\n",
    "\n",
    "interest_rates = [0.06, 0.05, 0.045, 0.04, 0.035,0.03]\n",
    "\n",
    "res = [refinance(m, 84, new_interest=r, remaining=PERIOD-84) for r in interest_rates]\n",
    "interests = [r[0]+r[2] for r in res]\n",
    "\n",
    "plt.plot(interest_rates, interests, label='total interests')\n",
    "plt.plot(interest_rates, [total_interest]*len(interest_rates), label='no refinance interest')\n",
    "plt.xlabel('new interest rate')\n",
    "plt.ylabel('Overall interest ($)')\n",
    "plt.legend()\n"
   ]
  },
  {
   "cell_type": "markdown",
   "metadata": {
    "colab_type": "text",
    "id": "GfyyWWl40USo"
   },
   "source": [
    "Let's change the strategy and pay as low as the original payment for the 30yr fixed rate.\n",
    "Here shows what will happen  - we are better if the rate raises less than 0.5%."
   ]
  },
  {
   "cell_type": "code",
   "execution_count": 23,
   "metadata": {
    "colab": {},
    "colab_type": "code",
    "id": "Tfqflzp48Acu"
   },
   "outputs": [],
   "source": [
    "def overpay2(interest, amount, months, new_interest, month_to_change=84, payment=None):\n",
    "  import decimal\n",
    "  m = mortgage.Mortgage(interest=interest, amount=amount, months=months) # 30yr fixed\n",
    "  payment = payment if payment is not None else m.monthly_payment()\n",
    "  amount = mortgage.dollar(m.amount())\n",
    "  \n",
    "  m = mortgage.Mortgage(interest=interest-0.005, amount=amount, months=months) # 7/1ARM\n",
    "  month = 0\n",
    "  rate = decimal.Decimal(str(m.rate())).quantize(decimal.Decimal('.000001'))\n",
    "  total_interest = decimal.Decimal(0)\n",
    "  balance = mortgage.dollar(m.amount())\n",
    "  while month < month_to_change and balance > 0:\n",
    "    interest_unrounded = balance * rate * decimal.Decimal(1)/mortgage.MONTHS_IN_YEAR\n",
    "    interest = mortgage.dollar(interest_unrounded, round=decimal.ROUND_HALF_UP)\n",
    "    total_interest += interest\n",
    "    principle = payment - interest\n",
    "    balance -= principle\n",
    "    month += 1\n",
    "  if balance <= 0:\n",
    "    return month, total_interest\n",
    "  m2 = mortgage.Mortgage(interest=new_interest, amount=balance, months=months-month_to_change)\n",
    "  payment = payment if payment > m2.monthly_payment() else m2.monthly_payment()\n",
    "  res = m2.month_to_mature(payment=payment)\n",
    "  return month+res[0], total_interest+res[1]"
   ]
  },
  {
   "cell_type": "code",
   "execution_count": 24,
   "metadata": {
    "colab": {},
    "colab_type": "code",
    "id": "eO4vi1_jlLY6"
   },
   "outputs": [
    {
     "data": {
      "text/plain": [
       "<matplotlib.legend.Legend at 0x7f9255eec0b8>"
      ]
     },
     "execution_count": 24,
     "metadata": {},
     "output_type": "execute_result"
    },
    {
     "data": {
      "image/png": "[encoded data removed]",
      "text/plain": [
       "<Figure size 432x288 with 1 Axes>"
      ]
     },
     "metadata": {
      "needs_background": "light"
     },
     "output_type": "display_data"
    }
   ],
   "source": [
    "# 30yr fixed\n",
    "m2 = mortgage.Mortgage(interest=ORIGIN_INTEREST, amount=INITIAL_AMOUNT, months=PERIOD)\n",
    "res = refinance(m2, 0, remaining=PERIOD)\n",
    "total_interest = res[0]+res[2]\n",
    "\n",
    "# for 7/1ARM\n",
    "m = mortgage.Mortgage(interest=ORIGIN_INTEREST-0.005, amount=INITIAL_AMOUNT, months=PERIOD)\n",
    "\n",
    "interest_rates = [0.0875,0.06, 0.05, 0.045, 0.04, 0.035, 0.03]\n",
    "\n",
    "res = [overpay2(ORIGIN_INTEREST, INITIAL_AMOUNT, PERIOD, r) for r in interest_rates]\n",
    "interests = [r[1] for r in res]\n",
    "\n",
    "plt.plot(interest_rates, interests, label='total interests')\n",
    "plt.plot(interest_rates, [total_interest]*len(interest_rates), label='no refinance interest')\n",
    "plt.xlabel('new interest rate')\n",
    "plt.ylabel('Overall interest ($)')\n",
    "plt.legend()"
   ]
  },
  {
   "cell_type": "markdown",
   "metadata": {
    "colab_type": "text",
    "id": "FY3mMaxKQh7d"
   },
   "source": [
    "## Acknowledgement\n",
    "\n",
    "The work is done on [colab](https://colab.research.google.com)."
   ]
  }
 ],
 "metadata": {
  "colab": {
   "collapsed_sections": [],
   "name": "Refinance Analysis.ipynb",
   "provenance": [],
   "version": "0.3.2"
  },
  "kernelspec": {
   "display_name": "Python 3",
   "language": "python",
   "name": "python3"
  },
  "nikola": {
   "category": "life",
   "date": "2019-08-03 10:29:01 UTC-08:00",
   "description": "",
   "link": "",
   "slug": "refinance_a_loan",
   "tags": "",
   "title": "Refinance Analysis",
   "type": "text"
  }
 },
 "nbformat": 4,
 "nbformat_minor": 1
}
