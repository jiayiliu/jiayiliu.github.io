{
  "nbformat": 4,
  "nbformat_minor": 0,
  "metadata": {
    "colab": {
      "name": "Warnings for TensorFlow User.ipynb",
      "version": "0.3.2",
      "provenance": [],
      "collapsed_sections": []
    },
    "kernelspec": {
      "name": "python3",
      "display_name": "Python 3"
    },
    "nikola": {
      "category": "Programming",
      "date": "2019-06-09 21:41:01 UTC-08:00",
      "description": "A list of problems Tensorflow user should be aware of.",
      "link": "",
      "slug": "tensoflow-problem",
      "tags": "tensorflow,python",
      "has_math": true,
      "title": "Warnings for TensorFlow User",
      "type": "text"
    }
  },
  "cells": [
    {
      "cell_type": "markdown",
      "metadata": {
        "id": "XYQx379slCwg",
        "colab_type": "text"
      },
      "source": [
        "# Warnings for TensorFlow User\n",
        "\n",
        "This is (to be) a collection of warnings for TF users.",
        "<!-- TEASER_END -->\n"
      ]
    },
    {
      "cell_type": "markdown",
      "metadata": {
        "id": "f4DEVJ5wKrwU",
        "colab_type": "text"
      },
      "source": [
        "## TF Flag\n",
        "\n",
        "Flags is a useful replacement for the argparse and other libraries. It has been used extensively in TF codes.  However, it claims to be \"Import router for absl.flags. See https://github.com/abseil/abseil-py.\" from the version 1.13 documentation.  But it is not the flag in abseil.\n",
        "\n",
        "The major problem I encountered is that if the argument is mis-spelled, there is **NO** warning in TF.   And it is **different** from the behaviour in abseil.  So try to use the abseil version for a peaceful mind.\n",
        "\n",
        "See the example below:"
      ]
    },
    {
      "cell_type": "code",
      "metadata": {
        "id": "IQsgtMKMjreA",
        "colab_type": "code",
        "colab": {}
      },
      "source": [
        "with open(\"test_absl.py\",\"w\") as f:\n",
        "  f.write(\"\"\"from absl import app\n",
        "FLAGS = app.flags.FLAGS\n",
        "app.flags.DEFINE_integer('a', 0, 'var')\n",
        "\n",
        "def main(unused):\n",
        "    print(\"value a is %d\"%FLAGS.a)\n",
        "\n",
        "if __name__ == \"__main__\":\n",
        "    app.run(main)\"\"\")"
      ],
      "execution_count": 0,
      "outputs": []
    },
    {
      "cell_type": "code",
      "metadata": {
        "id": "Zo5f6zvAjypc",
        "colab_type": "code",
        "outputId": "d8071b4a-bc8c-4f22-f15d-c53af4a23e89",
        "colab": {
          "base_uri": "https://localhost:8080/",
          "height": 84
        }
      },
      "source": [
        "# default run\n",
        "!python test_absl.py\n",
        "# change a to 2\n",
        "!python test_absl.py --a 2\n",
        "# wrong argument\n",
        "!python test_absl.py --b 1"
      ],
      "execution_count": 2,
      "outputs": [
        {
          "output_type": "stream",
          "text": [
            "value a is 0\n",
            "value a is 2\n",
            "FATAL Flags parsing error: Unknown command line flag 'b'\n",
            "Pass --helpshort or --helpfull to see help on flags.\n"
          ],
          "name": "stdout"
        }
      ]
    },
    {
      "cell_type": "code",
      "metadata": {
        "id": "giwhtVwoj0qk",
        "colab_type": "code",
        "colab": {}
      },
      "source": [
        "with open(\"test_tf.py\",\"w\") as f:\n",
        "  f.write(\"\"\"from tensorflow.compat.v1 import app # before v1.13 - from tensorflow import app\n",
        "FLAGS = app.flags.FLAGS\n",
        "app.flags.DEFINE_integer('a', 0, 'var')\n",
        "\n",
        "def main(unused):\n",
        "    print(\"value a is %d\"%FLAGS.a)\n",
        "\n",
        "if __name__ == \"__main__\":\n",
        "    app.run(main)\n",
        "\"\"\")"
      ],
      "execution_count": 0,
      "outputs": []
    },
    {
      "cell_type": "code",
      "metadata": {
        "id": "oFxpCGy5kEKl",
        "colab_type": "code",
        "outputId": "44989658-db5f-45ec-b8df-ffb481785c68",
        "colab": {
          "base_uri": "https://localhost:8080/",
          "height": 84
        }
      },
      "source": [
        "# default run\n",
        "!python test_absl.py\n",
        "# change a to 2\n",
        "!python test_absl.py --a 2\n",
        "# wrong argument\n",
        "!python test_absl.py --b 1"
      ],
      "execution_count": 4,
      "outputs": [
        {
          "output_type": "stream",
          "text": [
            "value a is 0\n",
            "value a is 2\n",
            "FATAL Flags parsing error: Unknown command line flag 'b'\n",
            "Pass --helpshort or --helpfull to see help on flags.\n"
          ],
          "name": "stdout"
        }
      ]
    },
    {
      "cell_type": "markdown",
      "metadata": {
        "id": "LDpGhOa9lLfR",
        "colab_type": "text"
      },
      "source": [
        "# Acknowledge\n",
        "\n",
        "The notebook is prepared in [colab](https://colab.research.google.com)."
      ]
    }
  ]
}