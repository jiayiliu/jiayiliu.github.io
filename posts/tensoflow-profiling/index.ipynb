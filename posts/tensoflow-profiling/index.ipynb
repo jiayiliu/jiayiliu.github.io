{
 "cells": [
  {
   "cell_type": "code",
   "execution_count": 1,
   "metadata": {},
   "outputs": [],
   "source": [
    "import tensorflow as tf\n",
    "import tabulate\n",
    "from tensorflow.profiler import ProfileOptionBuilder as POB"
   ]
  },
  {
   "cell_type": "markdown",
   "metadata": {},
   "source": [
    "This article introduces the TensorFlow profiler for Python user in practice. First, I will present the basic configuration for the profiler, then I use an example to show how to integrate it with existing code. In the end, I conclude with how to access the results from the profiler's output.\n",
    "\n",
    "TensorFlow profiler (profiler hereafter) is a tool for analyzing deep neural network and performance tuning."
   ]
  },
  {
   "cell_type": "markdown",
   "metadata": {},
   "source": [
    "## Profile Option Builder\n",
    "\n",
    "The profiler relies on a dictionary of parameters to control the trackings. The documentation can be found at the following places.\n",
    "\n",
    "+ TensorFlow documentaion: https://www.tensorflow.org/api_docs/python/tf/profiler/ProfileOptionBuilder\n",
    "+ Souce code Definition:  https://github.com/tensorflow/tensorflow/blob/r1.11/tensorflow/python/profiler/option_builder.py\n",
    "+ Detailed documentation: https://github.com/tensorflow/tensorflow/blob/master/tensorflow/core/profiler/g3doc/options.md"
   ]
  },
  {
   "cell_type": "markdown",
   "metadata": {},
   "source": [
    "### Functions to create default options\n",
    "\n",
    "TensorFlow provides three methods to create a configuration for basic statistics:\n",
    "    \n",
    "+ `tf.profiler.ProfileOptionBuilder.Protrainable_variables_parameter()`\n",
    "+ `tf.profiler.ProfileOptionBuilder.float_operation()`\n",
    "+ `tf.profiler.ProfileOptionBuilder.time_and_memory()`\n",
    "\n",
    "The above functions returns a `dict` object contains the default values as below:"
   ]
  },
  {
   "cell_type": "code",
   "execution_count": 2,
   "metadata": {},
   "outputs": [
    {
     "name": "stdout",
     "output_type": "stream",
     "text": [
      "Name                       trainable_variables_parameter    float_operation    time_and_memory\n",
      "-------------------------  -------------------------------  -----------------  -------------------\n",
      "max_depth                  10000                            10000              10000\n",
      "min_bytes                  0                                0                  1\n",
      "min_micros                 0                                0                  1\n",
      "min_params                 0                                0                  0\n",
      "min_float_ops              0                                1                  0\n",
      "min_occurrence             0                                0                  0\n",
      "order_by                   name                             float_ops          micros\n",
      "account_type_regexes       ['_trainable_variables']         ['.*']             ['.*']\n",
      "start_name_regexes         ['.*']                           ['.*']             ['.*']\n",
      "trim_name_regexes          []                               []                 []\n",
      "show_name_regexes          ['.*']                           ['.*']             ['.*']\n",
      "hide_name_regexes          []                               []                 []\n",
      "account_displayed_op_only  True                             True               True\n",
      "select                     ['params']                       ['float_ops']      ['micros', 'bytes']\n",
      "step                       -1                               -1                 -1\n",
      "output                     stdout                           stdout             stdout\n"
     ]
    }
   ],
   "source": [
    "opts = [POB.trainable_variables_parameter(), POB.float_operation(), POB.time_and_memory()]\n",
    "compare_table = [(i, opts[0][i], opts[1][i], opts[2][i]) for i in opts[0].keys()]\n",
    "print(tabulate.tabulate(compare_table, headers=[\"Name\",\"trainable_variables_parameter\", \"float_operation\", \"time_and_memory\"]))"
   ]
  },
  {
   "cell_type": "markdown",
   "metadata": {},
   "source": [
    "### Customize options\n",
    "\n",
    "The above detailed configurations can be further modified.\n",
    "There are two approaches:\n",
    "    \n",
    "1. **Not preferred**, directly change the value in the `dict`;\n",
    "2. Create a `ProfileOptionBuilder` object without default, or with defaut in a dictionary. Then update values (see next section), and use `build()` to create the `dict`."
   ]
  },
  {
   "cell_type": "code",
   "execution_count": 3,
   "metadata": {},
   "outputs": [
    {
     "data": {
      "text/plain": [
       "{'max_depth': 100,\n",
       " 'min_bytes': 1,\n",
       " 'min_peak_bytes': 0,\n",
       " 'min_residual_bytes': 0,\n",
       " 'min_output_bytes': 0,\n",
       " 'min_micros': 1,\n",
       " 'min_accelerator_micros': 0,\n",
       " 'min_cpu_micros': 0,\n",
       " 'min_params': 0,\n",
       " 'min_float_ops': 0,\n",
       " 'min_occurrence': 0,\n",
       " 'order_by': 'micros',\n",
       " 'account_type_regexes': ['.*'],\n",
       " 'start_name_regexes': ['.*'],\n",
       " 'trim_name_regexes': [],\n",
       " 'show_name_regexes': ['.*'],\n",
       " 'hide_name_regexes': [],\n",
       " 'account_displayed_op_only': True,\n",
       " 'select': ['micros', 'bytes'],\n",
       " 'step': -1,\n",
       " 'output': 'stdout'}"
      ]
     },
     "execution_count": 3,
     "metadata": {},
     "output_type": "execute_result"
    }
   ],
   "source": [
    "config_dict = POB.time_and_memory()\n",
    "new_config = POB(config_dict)\n",
    "new_config.with_max_depth(100)\n",
    "new_config.build()"
   ]
  },
  {
   "cell_type": "markdown",
   "metadata": {},
   "source": [
    "### Profiler update function and value\n",
    "\n",
    "Comments are from the [detailed documentation in g3doc]( https://github.com/tensorflow/tensorflow/blob/master/tensorflow/core/profiler/g3doc/options.md).\n",
    "\n",
    "| function | Key | Comment |\n",
    "|:--------:|:---:|:------- |\n",
    "| with_max_depth | max_depth | Show nodes that are at most this number of hops from starting node in the data structure. | \n",
    "| with_min_memory | min_bytes <br> min_peak_bytes <br> min_residual_bytes <br> min_output_bytes | Show nodes that request at least this number of bytes. <br> Show nodes that using at least this number of bytes during peak memory usage. <br> Show nodes that have at least this number of bytes not being de-allocated after Compute.<br> Show nodes that have at least this number of bytes output (no necessarily allocated by the nodes). |\n",
    "| with_min_execution_time | min_micros <br> min_accelerator_micros <br> min_cpu_micros | Show nodes that spend at least this number of microseconds to run. It sums accelerator_micros and cpu_micros. Note: cpu and accelerator can run in parallel. <br> Show nodes that spend at least this number of microseconds to run on accelerator (e.g. GPU). <br> Show nodes that spend at least this number of microseconds to run on CPU. |\n",
    "| with_min_parameters | min_parameters | Show nodes that contains at least this number of parameters. |\n",
    "| with_min_occurrence | min_occurrence | Show nodes that appear at least this number of times. |\n",
    "| with_min_float_operations | min_float_ops | Show nodes that contain at least this number of float operations. Only available if an node has op.RegisterStatistics() defined and OpLogProto is provided | \n",
    "| with_accounted_types | account_type_regexes | Account and display the nodes whose types match one of the type regexes specified. tfprof allow user to define extra operation types for graph nodes through tensorflow.tfprof.OpLogProto proto. regexes are comma-sperated. | \n",
    "| with_node_names | start_name_regexes <br> trim_name_regexes <br> show_name_regexes <br> hide_name_regexes | Show node starting from the node that matches the regexes, recursively. regexes are comma-separated. <br> Hide node starting from the node that matches the regexes, recursively, regexes are comma-seprated. <br> Show node that match the regexes. regexes are comma-seprated. <br> Hide node that match the regexes. regexes are comma-seprated. |\n",
    "| account_displayed_op_only | account_displayed_op_only | If True, only account the statistics of ops eventually displayed. If False, account all op statistics matching -account_type_regexes recursively. |\n",
    "| with_empty_output | output | Do not generate side-effect outputs. |\n",
    "| with_stdout_output <br> with_file_output <br> with_timeline_output with_pprof_output <br> | output | Print the result to stdout. <br> Print the result to a file. <br>Generate a timeline json file.<br>Generate a pprof profile gzip file. | \n",
    "| order_by | order_by | Order the results by name\\|depth\\|bytes\\|peak_bytes\\|residual_bytes\\|output_bytes\\|micros\\|accelerator_micros\\|cpu_micros\\|params\\|float_ops\\|occurrence].|\n",
    "| select | select | Comma-separated list of attributes to show. Supported attributes: bytes\\|peak_bytes\\|residual_bytes\\|output_bytes\\|micros\\|accelerator_micros\\|cpu_micros\\|params\\|float_ops\\|occurrence\\|tensor_value\\|device\\|op_types\\|input_shapes.|\n",
    "| with_step | step | Show the stats of the this step when multiple steps of RunMetadata were added. By default, show the average of all steps.|"
   ]
  },
  {
   "cell_type": "markdown",
   "metadata": {},
   "source": [
    "## A simple demo"
   ]
  },
  {
   "cell_type": "code",
   "execution_count": 4,
   "metadata": {},
   "outputs": [],
   "source": [
    "# Build a graph\n",
    "tf.reset_default_graph()\n",
    "x = [[1]*5 for i in range(2)] # 2x5 matrix\n",
    "A = [[1]*2 for i in range(2)] # 2x2 matrix\n",
    "\n",
    "tf_x = tf.constant(x)\n",
    "tf_A = tf.constant(A)\n",
    "tf_y = tf.matmul(tf_A, tf_x)"
   ]
  },
  {
   "cell_type": "code",
   "execution_count": 5,
   "metadata": {},
   "outputs": [
    {
     "name": "stdout",
     "output_type": "stream",
     "text": [
      "The total number of FLOPs is 40\n"
     ]
    }
   ],
   "source": [
    "opts = POB.float_operation()\n",
    "output = tf.profiler.profile(tf.get_default_graph(),\n",
    "                        cmd='scope',\n",
    "                        options=opts)\n",
    "print(\"The total number of FLOPs is %d\"%output.total_float_ops)"
   ]
  },
  {
   "cell_type": "code",
   "execution_count": 6,
   "metadata": {},
   "outputs": [
    {
     "data": {
      "text/plain": [
       "tensorflow.core.profiler.tfprof_output_pb2.GraphNodeProto"
      ]
     },
     "execution_count": 6,
     "metadata": {},
     "output_type": "execute_result"
    }
   ],
   "source": [
    "type(output)"
   ]
  },
  {
   "cell_type": "markdown",
   "metadata": {},
   "source": [
    "## How to use the result\n",
    "\n",
    "The output of profiler is a [Protocol Buffer](https://developers.google.com/protocol-buffers/docs/pythontutorial), whose content is defined [here](https://github.com/tensorflow/tensorflow/blob/r1.11/tensorflow/core/profiler/tfprof_output.proto)\n",
    "\n",
    "For people not familiar with it (such as me), its values are access by name directly.\n",
    "Or you can convert it to a `dict` by using [this](https://github.com/kaporzhu/protobuf-to-dict).\n",
    "\n",
    "The basic keys are:"
   ]
  },
  {
   "cell_type": "code",
   "execution_count": 7,
   "metadata": {},
   "outputs": [
    {
     "name": "stdout",
     "output_type": "stream",
     "text": [
      "name\n",
      "tensor_value\n",
      "run_count\n",
      "exec_micros\n",
      "accelerator_exec_micros\n",
      "cpu_exec_micros\n",
      "requested_bytes\n",
      "peak_bytes\n",
      "residual_bytes\n",
      "output_bytes\n",
      "parameters\n",
      "float_ops\n",
      "devices\n",
      "total_definition_count\n",
      "total_run_count\n",
      "total_exec_micros\n",
      "total_accelerator_exec_micros\n",
      "total_cpu_exec_micros\n",
      "total_requested_bytes\n",
      "total_peak_bytes\n",
      "total_residual_bytes\n",
      "total_output_bytes\n",
      "total_parameters\n",
      "total_float_ops\n",
      "shapes\n",
      "input_shapes\n",
      "children\n"
     ]
    }
   ],
   "source": [
    "print(\"\\n\".join(output.DESCRIPTOR.fields_by_name.keys()))"
   ]
  },
  {
   "cell_type": "markdown",
   "metadata": {},
   "source": [
    "And the values associated with those keys are:"
   ]
  },
  {
   "cell_type": "code",
   "execution_count": 8,
   "metadata": {},
   "outputs": [
    {
     "name": "stdout",
     "output_type": "stream",
     "text": [
      "Name                           Value\n",
      "-----------------------------  -------------------------\n",
      "name                           _TFProfRoot\n",
      "tensor_value\n",
      "run_count                      0\n",
      "exec_micros                    0\n",
      "accelerator_exec_micros        0\n",
      "cpu_exec_micros                0\n",
      "requested_bytes                0\n",
      "peak_bytes                     0\n",
      "residual_bytes                 0\n",
      "output_bytes                   0\n",
      "parameters                     0\n",
      "float_ops                      0\n",
      "devices                        []\n",
      "total_definition_count         2\n",
      "total_run_count                0\n",
      "total_exec_micros              0\n",
      "total_accelerator_exec_micros  0\n",
      "total_cpu_exec_micros          0\n",
      "total_requested_bytes          0\n",
      "total_peak_bytes               0\n",
      "total_residual_bytes           0\n",
      "total_output_bytes             0\n",
      "total_parameters               0\n",
      "total_float_ops                40\n",
      "shapes                         []\n",
      "input_shapes                   {}\n",
      "children                       [name: \"MatMul\"\n",
      "                               float_ops: 40\n",
      "                               total_float_ops: 40\n",
      "                               input_shapes {\n",
      "                                 value {\n",
      "                                   dim {\n",
      "                                     size: 2\n",
      "                                   }\n",
      "                                   dim {\n",
      "                                     size: 2\n",
      "                                   }\n",
      "                                 }\n",
      "                               }\n",
      "                               input_shapes {\n",
      "                                 key: 1\n",
      "                                 value {\n",
      "                                   dim {\n",
      "                                     size: 2\n",
      "                                   }\n",
      "                                   dim {\n",
      "                                     size: 5\n",
      "                                   }\n",
      "                                 }\n",
      "                               }\n",
      "                               total_definition_count: 1\n",
      "                               ]\n"
     ]
    }
   ],
   "source": [
    "compare_table = [(i, getattr(output,i)) for i in output.DESCRIPTOR.fields_by_name.keys()]\n",
    "print(tabulate.tabulate(compare_table, headers=[\"Name\",\"Value\"]))"
   ]
  },
  {
   "cell_type": "markdown",
   "metadata": {},
   "source": [
    "## Other notes\n",
    "\n",
    "If you are careful enough, you will find that the number of float operations seems a bit large.\n",
    "For two matrices in $R^{j\\times k}, R^{k\\times l}$, it should be $(2k-1)jl$, whereas we have $2jkl$. \n",
    "Because the profiler relies on the `RegisterStatistics('flops')` defined with the operation, and the `matmul` is defined [here](https://github.com/tensorflow/tensorflow/blob/r1.11/tensorflow/python/ops/math_ops.py) as we found above. \n",
    "So be careful when you are sensitive to the result.  Read more [here](https://github.com/tensorflow/tensorflow/blob/master/tensorflow/core/profiler/g3doc/profile_model_architecture.md) for the disccusion about profiler's caveat in float operations."
   ]
  }
 ],
 "metadata": {
  "kernelspec": {
   "display_name": "DL",
   "language": "python",
   "name": "dl"
  },
  "language_info": {
   "codemirror_mode": {
    "name": "ipython",
    "version": 3
   },
   "file_extension": ".py",
   "mimetype": "text/x-python",
   "name": "python",
   "nbconvert_exporter": "python",
   "pygments_lexer": "ipython3",
   "version": "3.6.6"
  },
  "nikola": {
   "category": "",
   "date": "2018-11-04 19:44:01 UTC-08:00",
   "description": "",
   "link": "",
   "slug": "tensoflow-profiling",
   "tags": "",
   "title": "TensorFlow Profiling",
   "type": "text"
  }

 },
 "nbformat": 4,
 "nbformat_minor": 2
}
